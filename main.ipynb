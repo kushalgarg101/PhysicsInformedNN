{
 "cells": [
  {
   "cell_type": "code",
   "execution_count": 1,
   "id": "3e03c080",
   "metadata": {},
   "outputs": [],
   "source": [
    "import torch\n",
    "import torch.nn as nn\n",
    "import torch.optim as optim\n",
    "import matplotlib.pyplot as plt\n",
    "%matplotlib inline"
   ]
  },
  {
   "cell_type": "code",
   "execution_count": 2,
   "id": "1ff553fa",
   "metadata": {},
   "outputs": [],
   "source": [
    "class PINN(nn.Module):\n",
    "    def __init__(self):\n",
    "        super().__init__()\n",
    "        self.model = nn.Sequential(\n",
    "            nn.Linear(2, 32),  \n",
    "            nn.Tanh(),\n",
    "            nn.Linear(32, 64), \n",
    "            nn.Tanh(),\n",
    "            nn.Linear(64, 1)  \n",
    "        )\n",
    "\n",
    "    def forward(self, x, t):\n",
    "        inputs = torch.cat((x, t), dim=1)\n",
    "        u = self.model(inputs)\n",
    "        return u"
   ]
  },
  {
   "cell_type": "code",
   "execution_count": 3,
   "id": "4a157452",
   "metadata": {},
   "outputs": [],
   "source": [
    "model = PINN()"
   ]
  },
  {
   "cell_type": "code",
   "execution_count": 4,
   "id": "d1ebe39a",
   "metadata": {},
   "outputs": [],
   "source": [
    "def heat_loss(model, x, t, alpha):\n",
    "    u = model(x, t)\n",
    "    u_x = torch.autograd.grad(u, x, grad_outputs=torch.ones_like(u), create_graph=True)[0]\n",
    "    u_xx = torch.autograd.grad(u_x, x, grad_outputs=torch.ones_like(u_x), create_graph=True)[0]\n",
    "    u_t = torch.autograd.grad(u, t, grad_outputs=torch.ones_like(u), create_graph=True)[0]\n",
    "    residual = u_t - alpha * u_xx\n",
    "    return torch.mean(residual ** 2)"
   ]
  },
  {
   "cell_type": "code",
   "execution_count": 5,
   "id": "0e51fbb8",
   "metadata": {},
   "outputs": [],
   "source": [
    "def train_pinn(model, optimizer, x_train, t_train, alpha, epochs=1000):\n",
    "    losses = []\n",
    "\n",
    "    for epoch in range(epochs):\n",
    "        optimizer.zero_grad()\n",
    "        loss = heat_loss(model, x_train, t_train, alpha)\n",
    "        loss.backward()\n",
    "        optimizer.step()\n",
    "        losses.append(loss.item())\n",
    "        if epoch % 100 == 0:\n",
    "            print(f\"Epoch {epoch}, Loss: {loss.item():.10f}\")\n",
    "    return losses"
   ]
  },
  {
   "cell_type": "code",
   "execution_count": 6,
   "id": "a9569289",
   "metadata": {},
   "outputs": [],
   "source": [
    "x_train = torch.rand(500, 1, requires_grad=True)\n",
    "t_train = torch.rand(500, 1, requires_grad=True)"
   ]
  },
  {
   "cell_type": "code",
   "execution_count": 7,
   "id": "ff2b7d50",
   "metadata": {},
   "outputs": [],
   "source": [
    "def plot_graph(x_train, t_train, u_pred, losses):\n",
    "    plt.figure(figsize=(10, 4))\n",
    "    plt.plot(losses, label=\"Training Loss\")\n",
    "    plt.xlabel(\"Epochs\")\n",
    "    plt.ylabel(\"Loss\")\n",
    "    plt.title(\"Training Loss Over Epochs\")\n",
    "    plt.legend()\n",
    "    plt.show()\n",
    "\n",
    "    plt.figure(figsize=(10, 4))\n",
    "    plt.scatter(t_train.detach().numpy(), u_pred.detach().numpy(), color='blue', label=\"Predicted u(x, t)\")\n",
    "    plt.xlabel(\"Time (t)\")\n",
    "    plt.ylabel(\"Temperature u(x, t)\")\n",
    "    plt.title(\"Predicted Temperature over Time\")\n",
    "    plt.legend()\n",
    "    plt.show()"
   ]
  },
  {
   "cell_type": "code",
   "execution_count": 8,
   "id": "08640c99",
   "metadata": {},
   "outputs": [
    {
     "name": "stdout",
     "output_type": "stream",
     "text": [
      "Epoch 0, Loss: 0.0147824297\n",
      "Epoch 100, Loss: 0.0000117020\n",
      "Epoch 200, Loss: 0.0000063522\n",
      "Epoch 300, Loss: 0.0000036066\n",
      "Epoch 400, Loss: 0.0000021518\n",
      "Epoch 500, Loss: 0.0000013885\n",
      "Epoch 600, Loss: 0.0000009409\n",
      "Epoch 700, Loss: 0.0000006460\n",
      "Epoch 800, Loss: 0.0000004432\n",
      "Epoch 900, Loss: 0.0000003057\n"
     ]
    }
   ],
   "source": [
    "alpha = 0.1  \n",
    "\n",
    "optimizer = optim.Adam(model.parameters(), lr=0.001)\n",
    "losses = train_pinn(model, optimizer, x_train, t_train, alpha)"
   ]
  },
  {
   "cell_type": "code",
   "execution_count": 9,
   "id": "f4b33556",
   "metadata": {},
   "outputs": [],
   "source": [
    "u_pred = model(x_train, t_train)"
   ]
  },
  {
   "cell_type": "code",
   "execution_count": 10,
   "id": "2e30ded7",
   "metadata": {},
   "outputs": [
    {
     "ename": "TypeError",
     "evalue": "plot_graph() missing 4 required positional arguments: 'x_train', 't_train', 'u_pred', and 'losses'",
     "output_type": "error",
     "traceback": [
      "\u001b[1;31m---------------------------------------------------------------------------\u001b[0m",
      "\u001b[1;31mTypeError\u001b[0m                                 Traceback (most recent call last)",
      "Cell \u001b[1;32mIn[10], line 1\u001b[0m\n\u001b[1;32m----> 1\u001b[0m plot_graph()\n",
      "\u001b[1;31mTypeError\u001b[0m: plot_graph() missing 4 required positional arguments: 'x_train', 't_train', 'u_pred', and 'losses'"
     ]
    }
   ],
   "source": [
    "plot_graph()"
   ]
  },
  {
   "cell_type": "code",
   "execution_count": null,
   "id": "a9969781",
   "metadata": {},
   "outputs": [],
   "source": []
  }
 ],
 "metadata": {
  "kernelspec": {
   "display_name": "base",
   "language": "python",
   "name": "python3"
  },
  "language_info": {
   "codemirror_mode": {
    "name": "ipython",
    "version": 3
   },
   "file_extension": ".py",
   "mimetype": "text/x-python",
   "name": "python",
   "nbconvert_exporter": "python",
   "pygments_lexer": "ipython3",
   "version": "3.12.7"
  }
 },
 "nbformat": 4,
 "nbformat_minor": 5
}
